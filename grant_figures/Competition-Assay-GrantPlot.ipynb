{
 "cells": [
  {
   "cell_type": "code",
   "execution_count": 1,
   "metadata": {
    "collapsed": false
   },
   "outputs": [
    {
     "name": "stdout",
     "output_type": "stream",
     "text": [
      "Couldn't import dot_parser, loading of dot files will not be possible.\n"
     ]
    }
   ],
   "source": [
    "import grant\n",
    "from glob import glob\n",
    "import numpy as np\n",
    "import matplotlib.pyplot as plt\n",
    "import seaborn as sns\n",
    "%matplotlib inline"
   ]
  },
  {
   "cell_type": "code",
   "execution_count": 2,
   "metadata": {
    "collapsed": true
   },
   "outputs": [],
   "source": [
    "SrcColumns = ['A - Src','B - Buffer','C - Src','D - Buffer', 'E - Src','F - Buffer','G - Src','H - Buffer']\n",
    "AblColumns = ['A - Abl','B - Buffer','C - Abl','D - Buffer', 'E - Abl','F - Buffer','G - Abl','H - Buffer']"
   ]
  },
  {
   "cell_type": "code",
   "execution_count": 3,
   "metadata": {
    "collapsed": true
   },
   "outputs": [],
   "source": [
    "file_ABL_GEF= \"../competition/data/Abl Gef gain 120 bw1020 2016-01-19 15-59-53_plate_1.xml\"\n",
    "file_ABL_GEF_IMA= \"../competition/data/Abl Gef Ima gain 120 bw1020 2016-01-19 16-22-45_plate_1.xml\""
   ]
  },
  {
   "cell_type": "code",
   "execution_count": 4,
   "metadata": {
    "collapsed": false
   },
   "outputs": [],
   "source": [
    "AblGef_df = grant.file2df(file_ABL_GEF,AblColumns)\n",
    "AblGefIma_df = grant.file2df(file_ABL_GEF_IMA,AblColumns)"
   ]
  },
  {
   "cell_type": "code",
   "execution_count": 5,
   "metadata": {
    "collapsed": false
   },
   "outputs": [
    {
     "data": {
      "text/html": [
       "<div>\n",
       "<table border=\"1\" class=\"dataframe\">\n",
       "  <thead>\n",
       "    <tr style=\"text-align: right;\">\n",
       "      <th></th>\n",
       "      <th>A - Abl</th>\n",
       "      <th>B - Buffer</th>\n",
       "      <th>C - Abl</th>\n",
       "      <th>D - Buffer</th>\n",
       "      <th>E - Abl</th>\n",
       "      <th>F - Buffer</th>\n",
       "      <th>G - Abl</th>\n",
       "      <th>H - Buffer</th>\n",
       "    </tr>\n",
       "  </thead>\n",
       "  <tbody>\n",
       "    <tr>\n",
       "      <th>0</th>\n",
       "      <td>62213</td>\n",
       "      <td>19784</td>\n",
       "      <td>62890</td>\n",
       "      <td>19797</td>\n",
       "      <td>62821</td>\n",
       "      <td>20594</td>\n",
       "      <td>63317</td>\n",
       "      <td>17635</td>\n",
       "    </tr>\n",
       "    <tr>\n",
       "      <th>1</th>\n",
       "      <td>62497</td>\n",
       "      <td>17332</td>\n",
       "      <td>62936</td>\n",
       "      <td>18205</td>\n",
       "      <td>62927</td>\n",
       "      <td>18102</td>\n",
       "      <td>63343</td>\n",
       "      <td>14681</td>\n",
       "    </tr>\n",
       "    <tr>\n",
       "      <th>2</th>\n",
       "      <td>63194</td>\n",
       "      <td>12950</td>\n",
       "      <td>63056</td>\n",
       "      <td>13223</td>\n",
       "      <td>62794</td>\n",
       "      <td>13049</td>\n",
       "      <td>63251</td>\n",
       "      <td>10586</td>\n",
       "    </tr>\n",
       "    <tr>\n",
       "      <th>3</th>\n",
       "      <td>63017</td>\n",
       "      <td>10782</td>\n",
       "      <td>62743</td>\n",
       "      <td>11030</td>\n",
       "      <td>62841</td>\n",
       "      <td>10622</td>\n",
       "      <td>63045</td>\n",
       "      <td>9235</td>\n",
       "    </tr>\n",
       "    <tr>\n",
       "      <th>4</th>\n",
       "      <td>56558</td>\n",
       "      <td>10186</td>\n",
       "      <td>62107</td>\n",
       "      <td>10257</td>\n",
       "      <td>61824</td>\n",
       "      <td>9884</td>\n",
       "      <td>55471</td>\n",
       "      <td>8785</td>\n",
       "    </tr>\n",
       "    <tr>\n",
       "      <th>5</th>\n",
       "      <td>34259</td>\n",
       "      <td>9837</td>\n",
       "      <td>38003</td>\n",
       "      <td>9884</td>\n",
       "      <td>38786</td>\n",
       "      <td>9620</td>\n",
       "      <td>35771</td>\n",
       "      <td>8796</td>\n",
       "    </tr>\n",
       "    <tr>\n",
       "      <th>6</th>\n",
       "      <td>22106</td>\n",
       "      <td>9861</td>\n",
       "      <td>24868</td>\n",
       "      <td>9716</td>\n",
       "      <td>24637</td>\n",
       "      <td>9757</td>\n",
       "      <td>23488</td>\n",
       "      <td>8789</td>\n",
       "    </tr>\n",
       "    <tr>\n",
       "      <th>7</th>\n",
       "      <td>14589</td>\n",
       "      <td>9659</td>\n",
       "      <td>16880</td>\n",
       "      <td>10010</td>\n",
       "      <td>17193</td>\n",
       "      <td>9518</td>\n",
       "      <td>17755</td>\n",
       "      <td>8612</td>\n",
       "    </tr>\n",
       "    <tr>\n",
       "      <th>8</th>\n",
       "      <td>11475</td>\n",
       "      <td>9601</td>\n",
       "      <td>12311</td>\n",
       "      <td>10035</td>\n",
       "      <td>13272</td>\n",
       "      <td>9758</td>\n",
       "      <td>12312</td>\n",
       "      <td>8625</td>\n",
       "    </tr>\n",
       "    <tr>\n",
       "      <th>9</th>\n",
       "      <td>10505</td>\n",
       "      <td>9669</td>\n",
       "      <td>11388</td>\n",
       "      <td>9891</td>\n",
       "      <td>11702</td>\n",
       "      <td>9649</td>\n",
       "      <td>10925</td>\n",
       "      <td>8513</td>\n",
       "    </tr>\n",
       "    <tr>\n",
       "      <th>10</th>\n",
       "      <td>9771</td>\n",
       "      <td>9722</td>\n",
       "      <td>10457</td>\n",
       "      <td>10630</td>\n",
       "      <td>10585</td>\n",
       "      <td>9889</td>\n",
       "      <td>10062</td>\n",
       "      <td>8840</td>\n",
       "    </tr>\n",
       "    <tr>\n",
       "      <th>11</th>\n",
       "      <td>8652</td>\n",
       "      <td>9757</td>\n",
       "      <td>9712</td>\n",
       "      <td>9396</td>\n",
       "      <td>9653</td>\n",
       "      <td>9578</td>\n",
       "      <td>9429</td>\n",
       "      <td>8671</td>\n",
       "    </tr>\n",
       "  </tbody>\n",
       "</table>\n",
       "</div>"
      ],
      "text/plain": [
       "    A - Abl  B - Buffer  C - Abl  D - Buffer  E - Abl  F - Buffer  G - Abl  \\\n",
       "0     62213       19784    62890       19797    62821       20594    63317   \n",
       "1     62497       17332    62936       18205    62927       18102    63343   \n",
       "2     63194       12950    63056       13223    62794       13049    63251   \n",
       "3     63017       10782    62743       11030    62841       10622    63045   \n",
       "4     56558       10186    62107       10257    61824        9884    55471   \n",
       "5     34259        9837    38003        9884    38786        9620    35771   \n",
       "6     22106        9861    24868        9716    24637        9757    23488   \n",
       "7     14589        9659    16880       10010    17193        9518    17755   \n",
       "8     11475        9601    12311       10035    13272        9758    12312   \n",
       "9     10505        9669    11388        9891    11702        9649    10925   \n",
       "10     9771        9722    10457       10630    10585        9889    10062   \n",
       "11     8652        9757     9712        9396     9653        9578     9429   \n",
       "\n",
       "    H - Buffer  \n",
       "0        17635  \n",
       "1        14681  \n",
       "2        10586  \n",
       "3         9235  \n",
       "4         8785  \n",
       "5         8796  \n",
       "6         8789  \n",
       "7         8612  \n",
       "8         8625  \n",
       "9         8513  \n",
       "10        8840  \n",
       "11        8671  "
      ]
     },
     "execution_count": 5,
     "metadata": {},
     "output_type": "execute_result"
    }
   ],
   "source": [
    "AblGef_df"
   ]
  },
  {
   "cell_type": "code",
   "execution_count": 6,
   "metadata": {
    "collapsed": false
   },
   "outputs": [
    {
     "data": {
      "image/png": "[encoded data removed]",
      "text/plain": [
       "<matplotlib.figure.Figure at 0x1121331d0>"
      ]
     },
     "metadata": {},
     "output_type": "display_data"
    }
   ],
   "source": [
    "sns.set_palette(\"Paired\", 10)\n",
    "\n",
    "plt.plot(AblGefIma_df[:].values, 'r');\n",
    "plt.plot(AblGef_df[:].values, 'k');\n",
    "plt.text(8,60000,'Gefitinib (ABL)',fontsize=15)\n",
    "plt.text(8,55000,'Imatinib + Gefitinib (ABL)',fontsize=15,color='red')\n",
    "plt.savefig('Abl_Gef_Ima_Jan2016_repeat.png',dpi=1000)"
   ]
  },
  {
   "cell_type": "code",
   "execution_count": 7,
   "metadata": {
    "collapsed": true
   },
   "outputs": [],
   "source": [
    "ligand_conc = np.array([20.0e-6,9.15e-6,4.18e-6,1.91e-6,0.875e-6,0.4e-6,0.183e-6,0.0837e-6,0.0383e-6,0.0175e-6,0.008e-6,0.0001e-6], np.float64) # ligand concentration, M"
   ]
  },
  {
   "cell_type": "code",
   "execution_count": 8,
   "metadata": {
    "collapsed": false
   },
   "outputs": [
    {
     "data": {
      "image/png": "[encoded data removed]",
      "text/plain": [
       "<matplotlib.figure.Figure at 0x112167c10>"
      ]
     },
     "metadata": {},
     "output_type": "display_data"
    }
   ],
   "source": [
    "sns.set_palette(\"Paired\", 10)\n",
    "\n",
    "plt.semilogx(ligand_conc*12,AblGefIma_df[:].values, 'r');\n",
    "plt.semilogx(ligand_conc*12,AblGef_df[:].values, 'k');\n",
    "plt.text(4e-9,60000,'Gefitinib (ABL)',fontsize=15)\n",
    "plt.text(4e-9,55000,'Imatinib + Gefitinib (ABL)',fontsize=15,color='red')\n",
    "plt.xlabel('Ligand Concentration (M)')\n",
    "plt.ylabel('Relative Fluorescence')\n",
    "plt.xlim(1e-9,3e-4)\n",
    "plt.tight_layout();"
   ]
  },
  {
   "cell_type": "code",
   "execution_count": 9,
   "metadata": {
    "collapsed": false
   },
   "outputs": [
    {
     "data": {
      "image/png": "[encoded data removed]",
      "text/plain": [
       "<matplotlib.figure.Figure at 0x1122367d0>"
      ]
     },
     "metadata": {},
     "output_type": "display_data"
    }
   ],
   "source": [
    "plt.figure(figsize=(2.5,2.5))\n",
    "\n",
    "plt.semilogx(ligand_conc*12,AblGefIma_df[['A - Abl','C - Abl','E - Abl','G - Abl']].values, 'r');\n",
    "plt.semilogx(ligand_conc*12,AblGefIma_df[['B - Buffer','D - Buffer','F - Buffer','H - Buffer']].values, 'r', linestyle=':');\n",
    "plt.semilogx(ligand_conc*12,AblGef_df[['A - Abl','C - Abl','E - Abl','G - Abl']].values, 'k');\n",
    "plt.semilogx(ligand_conc*12,AblGef_df[['B - Buffer','D - Buffer','F - Buffer','H - Buffer']].values, 'k', linestyle=':');\n",
    "plt.text(1.5e-9,63000,'1 $\\mu$M Abl + gefitinib',fontsize=7)\n",
    "plt.text(1.5e-9,52000,'1 $\\mu$M Abl + 10 $\\mu$M imatinib \\n    + gefitinib',fontsize=7, color='red')\n",
    "plt.xlabel('[gefitinib] (M)',fontsize=9)\n",
    "plt.ylabel('relative fluorescence',fontsize=9)\n",
    "plt.title('excitation 280 nm/ emission 480 nm',fontsize=9)\n",
    "plt.xlim(1e-9,3e-4)\n",
    "plt.yticks([])\n",
    "plt.xticks(fontsize=8)\n",
    "plt.tight_layout();\n",
    "plt.savefig('Abl_Gef_Ima_grant.eps',type='eps',dpi=1000)"
   ]
  },
  {
   "cell_type": "code",
   "execution_count": 10,
   "metadata": {
    "collapsed": false
   },
   "outputs": [
    {
     "data": {
      "text/html": [
       "<div>\n",
       "<table border=\"1\" class=\"dataframe\">\n",
       "  <thead>\n",
       "    <tr style=\"text-align: right;\">\n",
       "      <th></th>\n",
       "      <th>A - Abl</th>\n",
       "      <th>C - Abl</th>\n",
       "    </tr>\n",
       "  </thead>\n",
       "  <tbody>\n",
       "    <tr>\n",
       "      <th>0</th>\n",
       "      <td>53250</td>\n",
       "      <td>63141</td>\n",
       "    </tr>\n",
       "    <tr>\n",
       "      <th>1</th>\n",
       "      <td>43872</td>\n",
       "      <td>52725</td>\n",
       "    </tr>\n",
       "    <tr>\n",
       "      <th>2</th>\n",
       "      <td>31303</td>\n",
       "      <td>38690</td>\n",
       "    </tr>\n",
       "    <tr>\n",
       "      <th>3</th>\n",
       "      <td>24462</td>\n",
       "      <td>29540</td>\n",
       "    </tr>\n",
       "    <tr>\n",
       "      <th>4</th>\n",
       "      <td>21709</td>\n",
       "      <td>23561</td>\n",
       "    </tr>\n",
       "    <tr>\n",
       "      <th>5</th>\n",
       "      <td>18941</td>\n",
       "      <td>20785</td>\n",
       "    </tr>\n",
       "    <tr>\n",
       "      <th>6</th>\n",
       "      <td>17939</td>\n",
       "      <td>19159</td>\n",
       "    </tr>\n",
       "    <tr>\n",
       "      <th>7</th>\n",
       "      <td>17258</td>\n",
       "      <td>18313</td>\n",
       "    </tr>\n",
       "    <tr>\n",
       "      <th>8</th>\n",
       "      <td>17135</td>\n",
       "      <td>17703</td>\n",
       "    </tr>\n",
       "    <tr>\n",
       "      <th>9</th>\n",
       "      <td>17250</td>\n",
       "      <td>17936</td>\n",
       "    </tr>\n",
       "    <tr>\n",
       "      <th>10</th>\n",
       "      <td>16964</td>\n",
       "      <td>17938</td>\n",
       "    </tr>\n",
       "    <tr>\n",
       "      <th>11</th>\n",
       "      <td>17185</td>\n",
       "      <td>17280</td>\n",
       "    </tr>\n",
       "  </tbody>\n",
       "</table>\n",
       "</div>"
      ],
      "text/plain": [
       "    A - Abl  C - Abl\n",
       "0     53250    63141\n",
       "1     43872    52725\n",
       "2     31303    38690\n",
       "3     24462    29540\n",
       "4     21709    23561\n",
       "5     18941    20785\n",
       "6     17939    19159\n",
       "7     17258    18313\n",
       "8     17135    17703\n",
       "9     17250    17936\n",
       "10    16964    17938\n",
       "11    17185    17280"
      ]
     },
     "execution_count": 10,
     "metadata": {},
     "output_type": "execute_result"
    }
   ],
   "source": [
    "AblGefIma_df[['A - Abl','C - Abl']]"
   ]
  },
  {
   "cell_type": "code",
   "execution_count": 11,
   "metadata": {
    "collapsed": false
   },
   "outputs": [
    {
     "data": {
      "text/plain": [
       "array([[ 53250.,  12894.,  63141.,  13739.,  63400.,  13953.,  63432.,\n",
       "         16807.],\n",
       "       [ 43872.,  12797.,  52725.,  12068.,  53561.,  12777.,  49829.,\n",
       "         11596.],\n",
       "       [ 31303.,  11876.,  38690.,  12203.,  38596.,  12048.,  37127.,\n",
       "         11445.],\n",
       "       [ 24462.,  11368.,  29540.,  11254.,  29405.,  11867.,  27706.,\n",
       "         10914.],\n",
       "       [ 21709.,  10305.,  23561.,  10359.,  23947.,  10513.,  22149.,\n",
       "          9179.],\n",
       "       [ 18941.,   9813.,  20785.,  10048.,  20759.,   9671.,  20375.,\n",
       "          8845.],\n",
       "       [ 17939.,   9907.,  19159.,   9782.,  20094.,   9803.,  18045.,\n",
       "          8713.],\n",
       "       [ 17258.,   9639.,  18313.,   9788.,  18623.,   9717.,  17424.,\n",
       "          8804.],\n",
       "       [ 17135.,   9746.,  17703.,   9823.,  18595.,  10231.,  17284.,\n",
       "          8846.],\n",
       "       [ 17250.,   9698.,  17936.,  10016.,  18799.,   9771.,  17618.,\n",
       "          8657.],\n",
       "       [ 16964.,   9965.,  17938.,   9939.,  18223.,   9851.,  17518.,\n",
       "          9041.],\n",
       "       [ 17185.,   9933.,  17280.,   9746.,  17532.,   9652.,  17583.,\n",
       "          8669.]])"
      ]
     },
     "execution_count": 11,
     "metadata": {},
     "output_type": "execute_result"
    }
   ],
   "source": [
    "AblGefIma_df[:].values"
   ]
  },
  {
   "cell_type": "code",
   "execution_count": null,
   "metadata": {
    "collapsed": true
   },
   "outputs": [],
   "source": []
  }
 ],
 "metadata": {
  "kernelspec": {
   "display_name": "Python 3",
   "language": "python",
   "name": "python3"
  },
  "language_info": {
   "codemirror_mode": {
    "name": "ipython",
    "version": 3
   },
   "file_extension": ".py",
   "mimetype": "text/x-python",
   "name": "python",
   "nbconvert_exporter": "python",
   "pygments_lexer": "ipython3",
   "version": "3.5.2"
  }
 },
 "nbformat": 4,
 "nbformat_minor": 0
}
