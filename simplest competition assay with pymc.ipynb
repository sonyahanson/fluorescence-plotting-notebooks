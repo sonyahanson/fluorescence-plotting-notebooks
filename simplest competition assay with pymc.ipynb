{
 "cells": [
  {
   "cell_type": "code",
   "execution_count": 1,
   "metadata": {
    "collapsed": true
   },
   "outputs": [],
   "source": []
  },
  {
   "cell_type": "markdown",
   "metadata": {},
   "source": [
    "# First let's make a simple version of the two component binding model"
   ]
  },
  {
   "cell_type": "code",
   "execution_count": 6,
   "metadata": {
    "collapsed": false
   },
   "outputs": [],
   "source": [
    "import pymc\n",
    "from glob import glob\n",
    "import numpy as np\n"
   ]
  },
  {
   "cell_type": "code",
   "execution_count": 7,
   "metadata": {
    "collapsed": true
   },
   "outputs": [],
   "source": [
    "DG_min = np.log(1e-15) # kT, most favorable (negative) binding free energy possible; 1 fM\n",
    "DG_max = +0 # kT, least favorable binding free energy possible"
   ]
  },
  {
   "cell_type": "code",
   "execution_count": 8,
   "metadata": {
    "collapsed": true
   },
   "outputs": [],
   "source": [
    "#this is just for the lognormal wrapper and inner filter effect and run_mcmc\n",
    "from assaytools import pymcmodels"
   ]
  },
  {
   "cell_type": "code",
   "execution_count": 9,
   "metadata": {
    "collapsed": true
   },
   "outputs": [],
   "source": [
    "class BindingModel(object):\n",
    "    \"\"\"\n",
    "    Abstract base class for reaction models.\n",
    "    \"\"\"\n",
    "\n",
    "    def __init__(self):\n",
    "        pass"
   ]
  },
  {
   "cell_type": "code",
   "execution_count": 5,
   "metadata": {
    "collapsed": false
   },
   "outputs": [],
   "source": [
    "class TwoComponentBindingModel(BindingModel):\n",
    "   \"\"\"\n",
    "   Simple two-component association.\n",
    "   \"\"\"\n",
    "\n",
    "   @classmethod\n",
    "   def equilibrium_concentrations(cls, DeltaG, Ptot, Ltot):\n",
    "      \"\"\"\n",
    "      Compute equilibrium concentrations for simple two-component association.\n",
    "      Parameters\n",
    "      ----------\n",
    "      DeltaG : float\n",
    "         Reduced free energy of binding (in units of kT)\n",
    "      Ptot : float or numpy array\n",
    "         Total protein concentration summed over bound and unbound species, molarity.\n",
    "      Ltot : float or numpy array\n",
    "         Total ligand concentration summed over bound and unbound speciesl, molarity.\n",
    "      Returns\n",
    "      -------\n",
    "      P : float or numpy array with same dimensions as Ptot\n",
    "         Free protein concentration, molarity.\n",
    "      L : float or numpy array with same dimensions as Ptot\n",
    "         Free ligand concentration, molarity.\n",
    "      PL : float or numpy array with same dimensions as Ptot\n",
    "         Bound complex concentration, molarity.\n",
    "      \"\"\"\n",
    "      # Handle only strictly positive elements---all others are set to zero as constants\n",
    "      try:\n",
    "          nonzero_indices = np.where(Ltot > 0)[0]\n",
    "          zero_indices = np.where(Ltot <= 0)[0]\n",
    "      except:\n",
    "          nonzero_indices = range(size[0])\n",
    "          zero_indices = []\n",
    "      nnonzero = len(nonzero_indices)\n",
    "      nzeros = len(zero_indices)\n",
    "\n",
    "      # Original form:\n",
    "      #Kd = np.exp(DeltaG)\n",
    "      #sqrt_arg = (Ptot + Ltot + Kd)**2 - 4*Ptot*Ltot\n",
    "      #sqrt_arg[sqrt_arg < 0.0] = 0.0\n",
    "      #PL = 0.5 * ((Ptot + Ltot + Kd) - np.sqrt(sqrt_arg));  # complex concentration (M)\n",
    "\n",
    "\n",
    "      # Numerically stable variant?\n",
    "      PL = np.zeros(Ptot.shape)\n",
    "      logP = np.log(Ptot[nonzero_indices])\n",
    "      logL = np.log(Ltot[nonzero_indices])\n",
    "      logPLK = np.logaddexp(np.logaddexp(logP, logL), DeltaG)\n",
    "      PLK = np.exp(logPLK);\n",
    "      sqrt_arg = 1.0 - np.exp(np.log(4.0) + logP + logL - 2*logPLK);\n",
    "      sqrt_arg[sqrt_arg < 0.0] = 0.0 # ensure always positive\n",
    "      PL[nonzero_indices] = 0.5 * PLK * (1.0 - np.sqrt(sqrt_arg));  # complex concentration (M)\n",
    "\n",
    "      # Another variant\n",
    "      #PL = 2*Ptot*Ltot / ((Ptot+Ltot+Kd) + np.sqrt((Ptot + Ltot + Kd)**2 - 4*Ptot*Ltot));  # complex concentration (M)\n",
    "      # Yet another numerically stable variant?\n",
    "      #logPLK = np.logaddexp(np.log(Ptot + Ltot),  DeltaG);\n",
    "      #PLK = np.exp(logPLK);\n",
    "      #xy = np.exp(np.log(Ptot) + np.log(Ltot) - 2.0*logPLK);\n",
    "      #chi = 1.0 - 4.0 * xy;\n",
    "      #chi[chi < 0.0] = 0.0 # prevent square roots of negative numbers\n",
    "      #PL = 0.5 * PLK * (1 - np.sqrt(chi))\n",
    "\n",
    "      # Ensure all concentrations are within limits, correcting cases where numerical issues cause problems.\n",
    "      PL[PL < 0.0] = 0.0 # complex cannot have negative concentration\n",
    "      #PL_max = np.minimum(Ptot, Ltot)\n",
    "      #indices = np.where(PL > PL_max)\n",
    "      #PL[indices] = PL_max[indices]\n",
    "\n",
    "      # Compute remaining concentrations.\n",
    "      P = Ptot - PL; # free protein concentration in sample cell after n injections (M)\n",
    "      L = Ltot - PL; # free ligand concentration in sample cell after n injections (M)\n",
    "      return [P, L, PL]\n"
   ]
  },
  {
   "cell_type": "code",
   "execution_count": 6,
   "metadata": {
    "collapsed": false
   },
   "outputs": [],
   "source": [
    "#This is significantly simplified to remove if statements and only focus on top fluorescence\n",
    "def make_model(Pstated, dPstated, Lstated, dLstated,\n",
    "               top_complex_fluorescence=None, top_ligand_fluorescence=None,\n",
    "               DG_prior='uniform',\n",
    "               concentration_priors='lognormal',\n",
    "               quantum_yield_priors='lognormal',\n",
    "               use_primary_inner_filter_correction=True,\n",
    "               use_secondary_inner_filter_correction=True,\n",
    "               assay_volume=100e-6, well_area=0.1586,\n",
    "               epsilon_ex=None, depsilon_ex=None,\n",
    "               epsilon_em=None, depsilon_em=None,\n",
    "               ligand_ex_absorbance=None, ligand_em_absorbance=None,\n",
    "               F_PL=None, dF_PL=None):\n",
    "    \n",
    "     # Compute path length.\n",
    "    path_length = assay_volume * 1000 / well_area # cm, needed for inner filter effect corrections\n",
    "\n",
    "    # Compute number of samples.\n",
    "    N = len(Lstated)\n",
    "\n",
    "    # Check input.\n",
    "    # TODO: Check fluorescence and absorbance measurements for correct dimensions.\n",
    "    if (len(Pstated) != N):\n",
    "        raise Exception('len(Pstated) [%d] must equal len(Lstated) [%d].' % (len(Pstated), len(Lstated)))\n",
    "    if (len(dPstated) != N):\n",
    "        raise Exception('len(dPstated) [%d] must equal len(Lstated) [%d].' % (len(dPstated), len(Lstated)))\n",
    "    if (len(dLstated) != N):\n",
    "        raise Exception('len(dLstated) [%d] must equal len(Lstated) [%d].' % (len(dLstated), len(Lstated)))\n",
    "\n",
    "    # Note whether we have top or bottom fluorescence measurements.\n",
    "    top_fluorescence = (top_complex_fluorescence is not None) or (top_ligand_fluorescence is not None) # True if any top fluorescence measurements provided\n",
    "\n",
    "    # Create an empty dict to hold the model.\n",
    "    model = dict()\n",
    "    \n",
    "     # Prior on binding free energies.\n",
    "    if DG_prior == 'uniform':\n",
    "        DeltaG = pymc.Uniform('DeltaG', lower=DG_min, upper=DG_max) # binding free energy (kT), uniform over huge range\n",
    "    elif DG_prior == 'chembl':\n",
    "        DeltaG = pymc.Normal('DeltaG', mu=0, tau=1./(12.5**2)) # binding free energy (kT), using a Gaussian prior inspured by ChEMBL\n",
    "    else:\n",
    "        raise Exception(\"DG_prior = '%s' unknown. Must be one of 'uniform' or 'chembl'.\" % DG_prior)\n",
    "    # Add to model.\n",
    "    model['DeltaG'] = DeltaG\n",
    "\n",
    "    # Create priors on true concentrations of protein and ligand.\n",
    "    if concentration_priors != 'lognormal':\n",
    "        raise Exception(\"concentration_priors = '%s' unknown. Must be one of ['lognormal'].\" % concentration_priors)\n",
    "    model['log_Ptrue'], model['Ptrue'] = pymcmodels.LogNormalWrapper('Ptrue', mean=Pstated, stddev=dPstated, size=Pstated.shape) # protein concentration (M)\n",
    "    model['log_Ltrue'], model['Ltrue'] = pymcmodels.LogNormalWrapper('Ltrue', mean=Lstated, stddev=dLstated, size=Lstated.shape) # ligand concentration (M)\n",
    "    model['log_Ltrue_control'], model['Ltrue_control'] = pymcmodels.LogNormalWrapper('Ltrue_control', mean=Lstated, stddev=dLstated, size=Lstated.shape) # ligand concentration in ligand-only wells (M)\n",
    "\n",
    "    # extinction coefficient\n",
    "    model['epsilon_ex'] = 0.0\n",
    "    if use_primary_inner_filter_correction:\n",
    "        if epsilon_ex:\n",
    "            model['log_epsilon_ex'], model['epsilon_ex'] =  pymcmodels.LogNormalWrapper('epsilon_ex', mean=epsilon_ex, stddev=depsilon_ex) # prior is centered on measured extinction coefficient\n",
    "        else:\n",
    "            model['epsilon_ex'] = pymc.Uniform('epsilon_ex', lower=0.0, upper=1000e3, value=70000.0) # extinction coefficient or molar absorptivity for ligand, units of 1/M/cm\n",
    "\n",
    "    model['epsilon_em'] = 0.0\n",
    "    if use_secondary_inner_filter_correction:\n",
    "        if epsilon_em:\n",
    "            model['log_epsilon_em'], model['epsilon_em'] =  pymcmodels.LogNormalWrapper('epsilon_em', mean=epsilon_em, stddev=depsilon_em) # prior is centered on measured extinction coefficient\n",
    "        else:\n",
    "            model['epsilon_em'] = pymc.Uniform('epsilon_em', lower=0.0, upper=1000e3, value=0.0) # extinction coefficient or molar absorptivity for ligand, units of 1/M/cm\n",
    "\n",
    "    # Min and max observed fluorescence.\n",
    "    Fmax = 0.0; Fmin = 1e6;\n",
    "    if top_complex_fluorescence is not None:\n",
    "        Fmax = max(Fmax, top_complex_fluorescence.max()); Fmin = min(Fmin, top_complex_fluorescence.min())\n",
    "    if top_ligand_fluorescence is not None:\n",
    "        Fmax = max(Fmax, top_ligand_fluorescence.max()); Fmin = min(Fmin, top_ligand_fluorescence.min())\n",
    "\n",
    "    # Compute initial guesses for fluorescence quantum yield quantities.\n",
    "    F_plate_guess = Fmin\n",
    "    F_buffer_guess = Fmin / path_length\n",
    "    F_L_guess = (Fmax - Fmin) / Lstated.max()\n",
    "    F_P_guess = Fmin\n",
    "    F_P_guess = Fmin / Pstated.min()\n",
    "    F_PL_guess = (Fmax - Fmin) / min(Pstated.max(), Lstated.max())\n",
    "\n",
    "    # Priors on fluorescence intensities of complexes (later divided by a factor of Pstated for scale).\n",
    "\n",
    "    if quantum_yield_priors == 'lognormal':\n",
    "        stddev = 1.0 # relative factor for stddev guess\n",
    "        model['log_F_plate'], model['F_plate'] =  pymcmodels.LogNormalWrapper('F_plate', mean=F_plate_guess, stddev=stddev*F_plate_guess) # plate fluorescence\n",
    "        model['log_F_buffer'], model['F_buffer'] =  pymcmodels.LogNormalWrapper('F_buffer', mean=F_buffer_guess, stddev=stddev*F_buffer_guess) # buffer fluorescence\n",
    "        model['log_F_buffer_control'], model['F_buffer_control'] =  pymcmodels.LogNormalWrapper('F_buffer_control', mean=F_buffer_guess, stddev=stddev*F_buffer_guess) # buffer fluorescence\n",
    "        if (F_PL is not None) and (dF_PL is not None):\n",
    "            model['log_F_PL'], model['F_PL'] =  pymcmodels.LogNormalWrapper('F_PL', mean=F_PL, stddev=dF_PL)\n",
    "        else:\n",
    "            model['log_F_PL'], model['F_PL'] =  pymcmodels.LogNormalWrapper('F_PL', mean=F_PL_guess, stddev=stddev*F_PL_guess) # complex fluorescence\n",
    "        model['log_F_P'], model['F_P'] =  pymcmodels.LogNormalWrapper('F_P', mean=F_P_guess, stddev=stddev*F_P_guess) # protein fluorescence\n",
    "        model['log_F_L'], model['F_L'] =  pymcmodels.LogNormalWrapper('F_L', mean=F_L_guess, stddev=stddev*F_L_guess) # ligand fluorescence\n",
    "    else:\n",
    "        raise Exception(\"quantum_yield_priors = '%s' unknown. Must be one of ['lognormal', 'uniform'].\" % quantum_yield_priors)\n",
    "\n",
    "    # Unknown experimental measurement error.\n",
    "    if top_fluorescence:\n",
    "        model['log_sigma_top'] = pymc.Uniform('log_sigma_top', lower=-10, upper=np.log(Fmax), value=np.log(5))\n",
    "        model['sigma_top'] = pymc.Lambda('sigma_top', lambda log_sigma=model['log_sigma_top'] : np.exp(log_sigma) )\n",
    "        model['precision_top'] = pymc.Lambda('precision_top', lambda log_sigma=model['log_sigma_top'] : np.exp(-2*log_sigma) )\n",
    "\n",
    "    if top_fluorescence:\n",
    "        model['log_sigma_abs'] = pymc.Uniform('log_sigma_abs', lower=-10, upper=0, value=np.log(0.01))\n",
    "        model['sigma_abs'] = pymc.Lambda('sigma_abs', lambda log_sigma=model['log_sigma_abs'] : np.exp(log_sigma) )\n",
    "        model['precision_abs'] = pymc.Lambda('precision_abs', lambda log_sigma=model['log_sigma_abs'] : np.exp(-2*log_sigma) )\n",
    "\n",
    "    if top_complex_fluorescence is not None:\n",
    "        @pymc.deterministic\n",
    "        def top_complex_fluorescence_model(F_plate=model['F_plate'], F_buffer=model['F_buffer'],\n",
    "                                           F_PL=model['F_PL'], F_P=model['F_P'], F_L=model['F_L'],\n",
    "                                           Ptrue=model['Ptrue'], Ltrue=model['Ltrue'], DeltaG=model['DeltaG'],\n",
    "                                           epsilon_ex=model['epsilon_ex'], epsilon_em=model['epsilon_em']):\n",
    "            [P_i, L_i, PL_i] = TwoComponentBindingModel.equilibrium_concentrations(DeltaG, Ptrue[:], Ltrue[:])\n",
    "            IF_i = pymcmodels.inner_filter_effect_attenuation(epsilon_ex, epsilon_em, path_length, L_i, geometry='top')\n",
    "            IF_i_plate = np.exp(-(epsilon_ex+epsilon_em)*path_length*L_i) # inner filter effect applied only to plate\n",
    "            Fmodel_i = IF_i[:]*(F_PL*PL_i + F_L*L_i + F_P*P_i + F_buffer*path_length) + IF_i_plate*F_plate\n",
    "            return Fmodel_i\n",
    "        # Add to model.\n",
    "        model['top_complex_fluorescence_model'] = top_complex_fluorescence_model\n",
    "        model['log_top_complex_fluorescence'], model['top_complex_fluorescence'] = pymcmodels.LogNormalWrapper('top_complex_fluorescence',\n",
    "            mean=model['top_complex_fluorescence_model'], stddev=model['sigma_top'],\n",
    "            size=[N], observed=True, value=top_complex_fluorescence) # observed data\n",
    "\n",
    "    if top_ligand_fluorescence is not None:\n",
    "        @pymc.deterministic\n",
    "        def top_ligand_fluorescence_model(F_plate=model['F_plate'], F_buffer_control=model['F_buffer_control'],\n",
    "                                          F_L=model['F_L'],\n",
    "                                          Ltrue_control=model['Ltrue_control'],\n",
    "                                          epsilon_ex=model['epsilon_ex'], epsilon_em=model['epsilon_em']):\n",
    "            IF_i = pymcmodels.inner_filter_effect_attenuation(epsilon_ex, epsilon_em, path_length, Ltrue_control, geometry='top')\n",
    "            IF_i_plate = np.exp(-(epsilon_ex+epsilon_em)*path_length*Ltrue_control) # inner filter effect applied only to plate\n",
    "            Fmodel_i = IF_i[:]*(F_L*Ltrue_control + F_buffer_control*path_length) + IF_i_plate*F_plate\n",
    "            return Fmodel_i\n",
    "        # Add to model.\n",
    "        model['top_ligand_fluorescence_model'] = top_ligand_fluorescence_model\n",
    "        model['log_top_ligand_fluorescence'], model['top_ligand_fluorescence'] = pymcmodels.LogNormalWrapper('top_ligand_fluorescence',\n",
    "                                                       mean=model['top_ligand_fluorescence_model'], stddev=model['sigma_top'],\n",
    "                                                       size=[N], observed=True, value=top_ligand_fluorescence) # observed data\n",
    "        \n",
    "            # Promote this to a full-fledged PyMC model.\n",
    "    pymc_model = pymc.Model(model)\n",
    "\n",
    "    # Return the pymc model\n",
    "    return pymc_model"
   ]
  },
  {
   "cell_type": "code",
   "execution_count": 16,
   "metadata": {
    "collapsed": true
   },
   "outputs": [],
   "source": [
    "from assaytools import parser"
   ]
  },
  {
   "cell_type": "code",
   "execution_count": 8,
   "metadata": {
    "collapsed": false
   },
   "outputs": [],
   "source": [
    "inputs = {\n",
    "    'xml_file_path' :  \"../fluorescence-assay-manuscript/data/singlet/\",\n",
    "    'file_set'      :  {'p38': glob( \"../fluorescence-assay-manuscript/data/singlet/p38_8lig*.xml\")},\n",
    "    'section'       :  '280_480_TOP_120',\n",
    "    'ligand_order'  :  ['Bosutinib','Bosutinib Isomer','Erlotinib','Gefitinib','Ponatinib','Lapatinib','Saracatinib','Vandetanib'],\n",
    "    'Lstated'       :  np.array([20.0e-6,14.0e-6,9.82e-6,6.88e-6,4.82e-6,3.38e-6,2.37e-6,1.66e-6,1.16e-6,0.815e-6,0.571e-6,0.4e-6,0.28e-6,0.196e-6,0.138e-6,0.0964e-6,0.0676e-6,0.0474e-6,0.0320e-6,0.0240e-6,0.0160e-6,0.0120e-6,0.008e-6,0.0], np.float64), # ligand concentration, M\n",
    "    'Pstated'       :  0.5e-6 * np.ones([24],np.float64), # protein concentration, M\n",
    "    'assay_volume'  :  50e-6, # assay volume, L\n",
    "    'well_area'     :  0.1369, # well area, cm^2 for 4ti-0203 [http://4ti.co.uk/files/3113/4217/2464/4ti-0201.pdf]\n",
    "    }"
   ]
  },
  {
   "cell_type": "code",
   "execution_count": null,
   "metadata": {
    "collapsed": false
   },
   "outputs": [],
   "source": []
  },
  {
   "cell_type": "code",
   "execution_count": 9,
   "metadata": {
    "collapsed": false
   },
   "outputs": [],
   "source": [
    "[complex_fluorescence, ligand_fluorescence] = parser.get_data_using_inputs(inputs)  "
   ]
  },
  {
   "cell_type": "code",
   "execution_count": 10,
   "metadata": {
    "collapsed": false
   },
   "outputs": [],
   "source": [
    "dPstated = 0.35 * inputs['Pstated'] # protein concentration uncertainty\n",
    "dLstated = 0.08 * inputs['Lstated'] # ligand concentraiton uncertainty (due to gravimetric preparation and HP D300 dispensing)"
   ]
  },
  {
   "cell_type": "code",
   "execution_count": 11,
   "metadata": {
    "collapsed": true
   },
   "outputs": [],
   "source": [
    "name = 'p38-Bosutinib-AB'"
   ]
  },
  {
   "cell_type": "code",
   "execution_count": 12,
   "metadata": {
    "collapsed": false
   },
   "outputs": [],
   "source": [
    "pymc_model = make_model(inputs['Pstated'], dPstated, inputs['Lstated'], dLstated,\n",
    "    top_complex_fluorescence=complex_fluorescence[name],\n",
    "    top_ligand_fluorescence=ligand_fluorescence[name],\n",
    "    use_primary_inner_filter_correction=True,\n",
    "    use_secondary_inner_filter_correction=True,\n",
    "    assay_volume=inputs['assay_volume'], DG_prior='uniform')"
   ]
  },
  {
   "cell_type": "code",
   "execution_count": 13,
   "metadata": {
    "collapsed": false
   },
   "outputs": [],
   "source": [
    "mcmc = pymcmodels.run_mcmc(pymc_model)"
   ]
  },
  {
   "cell_type": "code",
   "execution_count": 10,
   "metadata": {
    "collapsed": false
   },
   "outputs": [
    {
     "name": "stdout",
     "output_type": "stream",
     "text": [
      "Populating the interactive namespace from numpy and matplotlib\n"
     ]
    }
   ],
   "source": [
    "import matplotlib.pyplot as plt\n",
    "%pylab inline"
   ]
  },
  {
   "cell_type": "code",
   "execution_count": 15,
   "metadata": {
    "collapsed": false
   },
   "outputs": [
    {
     "data": {
      "text/plain": [
       "[<matplotlib.lines.Line2D at 0x11f282290>]"
      ]
     },
     "execution_count": 15,
     "metadata": {},
     "output_type": "execute_result"
    },
    {
     "data": {
      "image/png": "[encoded data removed]",
      "text/plain": [
       "<matplotlib.figure.Figure at 0x11bd59b10>"
      ]
     },
     "metadata": {},
     "output_type": "display_data"
    }
   ],
   "source": [
    "plt.plot(mcmc.DeltaG.trace())"
   ]
  },
  {
   "cell_type": "markdown",
   "metadata": {},
   "source": [
    "# Now let's try a comparatively simple version of the competition binding modeling"
   ]
  },
  {
   "cell_type": "code",
   "execution_count": 11,
   "metadata": {
    "collapsed": false
   },
   "outputs": [],
   "source": [
    "class CompetitionBindingModel(BindingModel):\n",
    "    \"\"\"\n",
    "     Analytic solution for competitive binding model problem.\n",
    "     As described in Wang, Z. X. An exact mathematical expression \n",
    "     for describing competitive binding of two different ligands to \n",
    "     a protein molecule. FEBS Lett. 1995, 360, 111−114.\n",
    "     \"\"\"\n",
    "\n",
    "    @classmethod\n",
    "    def equilibrium_concentrations(cls, Ptot, Ltot, DeltaG_L, Btot, DeltaG_B):\n",
    "        \"\"\"\n",
    "        Compute equilibrium concentrations for analytical competition assay association.\n",
    "        Parameters\n",
    "        ----------     \n",
    "        Ptot : float or numpy array\n",
    "          Total protein concentration summed over bound and unbound species, molarity.\n",
    "        Ltot : float or numpy array\n",
    "           Total fluorescent ligand concentration summed over bound and unbound speciesl, molarity.\n",
    "        DeltaG_L : float\n",
    "           Reduced free energy of binding of fluorescent L to P (in units of kT)\n",
    "        Btot : float or numpy array\n",
    "           Total competitive non-fluorescent ligand concentration summed over bound and unbound speciesl, molarity.\n",
    "        DeltaG_B : float\n",
    "           Reduced free energy of binding of non-fluorescent B to P (in units of kT)\n",
    "        \n",
    "        Returns\n",
    "        -------\n",
    "        P : float or numpy array with same dimensions as Ptot\n",
    "           Free protein concentration, molarity.\n",
    "        L : float or numpy array with same dimensions as Ptot\n",
    "           Free fluorescent ligand concentration, molarity.\n",
    "        PL : float or numpy array with same dimensions as Ptot\n",
    "           Bound fluorescent ligand complex concentration, molarity.\n",
    "        B : float or numpy array with same dimensions as Ptot\n",
    "           Free non-fluorescent competitive ligand concentration, molarity.\n",
    "        PB : float or numpy array with same dimensions as Ptot\n",
    "           Bound non-fluorescent competitive ligand complex concentration, molarity.\n",
    "        \"\"\"\n",
    "     \n",
    "        # Handle only strictly positive elements---all others are set to zero as constants\n",
    "        try:\n",
    "            nonzero_indices = np.where(Ltot > 0)[0]\n",
    "            zero_indices = np.where(Ltot <= 0)[0]\n",
    "        except:\n",
    "            nonzero_indices = range(size[0])\n",
    "            zero_indices = []\n",
    "        nnonzero = len(nonzero_indices)\n",
    "        nzeros = len(zero_indices)\n",
    "\n",
    "        # Original form:\n",
    "        Kd_L = np.exp(DeltaG_L)\n",
    "        Kd_B = np.exp(DeltaG_B)\n",
    "\n",
    "        # P^3 + aP^2 + bP + c = 0\n",
    "        a = Kd_L + Kd_B + Ltot + Btot - Ptot\n",
    "        b = Kd_L*Kd_B + Kd_B*(Ltot-Ptot) + Kd_B*(Btot - Ptot)\n",
    "        c = -Kd_L*Kd_B*Ptot\n",
    "    \n",
    "        # Subsitute P=u-a/3\n",
    "        # u^3 - qu - r = 0 where \n",
    "        q = (a**2)/3.0 - b\n",
    "        r = (-2.0/27.0)*a**3 +(1.0/3.0)*a*b - c\n",
    "    \n",
    "        # Discriminant\n",
    "        delta = (r**2)/4.0 -(q**3)/27.0\n",
    "    \n",
    "        # 3 roots. Physically meaningful root is u.\n",
    "        theta = np.arccos((-2*(a**3)+9*a*b-27*c)/(2*sqrt((a**2-3*b)**3)))\n",
    "        u = (2.0/3.0)*sqrt(a**2-3*b)*cos(theta/3.0)\n",
    "\n",
    "        # Compute remaining concentrations.\n",
    "        P = u - a/3.0           # free protein concentration in sample cell after n injections (M)\n",
    "        PL = P*Ltot/(Kd_L + P)  # fluorescent ligand complex concentration (M)\n",
    "        PB = P*Btot/(Kd_B + P)  # non-fluorescent ligand complex concentration (M)\n",
    "        L = Ltot - PL           # free fluorescent ligand concentration in sample cell after n injections (M)\n",
    "        B = Btot - PB           # free non-fluorescent ligand concentration in sample cell after n injections (M)\n",
    "    \n",
    "        return [P, L, PL, B, PB]\n",
    "\n"
   ]
  },
  {
   "cell_type": "code",
   "execution_count": 12,
   "metadata": {
    "collapsed": false
   },
   "outputs": [],
   "source": [
    "#This is our new competition assay model, which has competition as an option (note just for top fluroescence)\n",
    "#if the values on the second line are included\n",
    "def make_comp_model(Pstated, dPstated, Lstated, dLstated,\n",
    "               Bstated = None, dBstated = None, DG_L_mean = None, DG_L_std = None, # specific for competition assay\n",
    "               top_complex_fluorescence=None, top_ligand_fluorescence=None,\n",
    "               DG_prior='uniform',\n",
    "               concentration_priors='lognormal',\n",
    "               quantum_yield_priors='lognormal',\n",
    "               use_primary_inner_filter_correction=True,\n",
    "               use_secondary_inner_filter_correction=True,\n",
    "               assay_volume=100e-6, well_area=0.1586,\n",
    "               epsilon_ex=None, depsilon_ex=None,\n",
    "               epsilon_em=None, depsilon_em=None,\n",
    "               ligand_ex_absorbance=None, ligand_em_absorbance=None,\n",
    "               F_PL=None, dF_PL=None):\n",
    "\n",
    "    # Compute path length.\n",
    "    path_length = assay_volume * 1000 / well_area # cm, needed for inner filter effect corrections\n",
    "\n",
    "    # Compute number of samples.\n",
    "    N = len(Lstated)\n",
    "    \n",
    "    # Check input.\n",
    "    # TODO: Check fluorescence and absorbance measurements for correct dimensions.\n",
    "    if (len(Pstated) != N):\n",
    "        raise Exception('len(Pstated) [%d] must equal len(Lstated) [%d].' % (len(Pstated), len(Lstated)))\n",
    "    if (len(dPstated) != N):\n",
    "        raise Exception('len(dPstated) [%d] must equal len(Lstated) [%d].' % (len(dPstated), len(Lstated)))\n",
    "    if (len(dLstated) != N):\n",
    "        raise Exception('len(dLstated) [%d] must equal len(Lstated) [%d].' % (len(dLstated), len(Lstated)))\n",
    "\n",
    "    # Note whether we have top or bottom fluorescence measurements.\n",
    "    top_fluorescence = (top_complex_fluorescence is not None) or (top_ligand_fluorescence is not None) # True if any top fluorescence measurements provided\n",
    "\n",
    "    # Create an empty dict to hold the model.\n",
    "    model = dict()\n",
    "    \n",
    "    # Prior on binding free energies.\n",
    "    if DG_prior == 'uniform':\n",
    "        DeltaG_B = pymc.Uniform('DeltaG_B', lower=DG_min, upper=DG_max) # binding free energy (kT), uniform over huge range\n",
    "    elif DG_prior == 'chembl':\n",
    "        DeltaG_B = pymc.Normal('DeltaG_B', mu=0, tau=1./(12.5**2)) # binding free energy (kT), using a Gaussian prior inspured by ChEMBL\n",
    "    else:\n",
    "        raise Exception(\"DG_prior = '%s' unknown. Must be one of 'uniform' or 'chembl'.\" % DG_prior)\n",
    "    model['DeltaG_B'] = DeltaG_B\n",
    "    \n",
    "    # Prior on known binding free energy.\n",
    "    if DG_L_mean == None:\n",
    "        DeltaG_L = pymc.Uniform('DeltaG_L', lower=DG_min, upper=DG_max) # binding free energy (kT), uniform over huge range\n",
    "    else:\n",
    "        DeltaG_L = pymc.Normal('DeltaG_L', mu=DG_L_mean, tau=DG_L_std) \n",
    "    model['DeltaG_L'] = DeltaG_L\n",
    "        \n",
    "    if concentration_priors != 'lognormal':\n",
    "        raise Exception(\"concentration_priors = '%s' unknown. Must be one of ['lognormal'].\" % concentration_priors)\n",
    "    model['log_Ptrue'], model['Ptrue'] = pymcmodels.LogNormalWrapper('Ptrue', mean=Pstated, stddev=dPstated, size=Pstated.shape) # protein concentration (M)\n",
    "    model['log_Ltrue'], model['Ltrue'] = pymcmodels.LogNormalWrapper('Ltrue', mean=Lstated, stddev=dLstated, size=Lstated.shape) # ligand concentration (M)\n",
    "    model['log_Btrue'], model['Btrue'] = pymcmodels.LogNormalWrapper('Btrue', mean=Bstated, stddev=dBstated, size=Bstated.shape) # ligand concentration (M)\n",
    "    model['log_Ltrue_control'], model['Ltrue_control'] = pymcmodels.LogNormalWrapper('Ltrue_control', mean=Lstated, stddev=dLstated, size=Lstated.shape) # ligand concentration in ligand-only wells (M)\n",
    "\n",
    "    # extinction coefficient\n",
    "    model['epsilon_ex'] = 0.0\n",
    "    if use_primary_inner_filter_correction:\n",
    "        if epsilon_ex:\n",
    "            model['log_epsilon_ex'], model['epsilon_ex'] =  pymcmodels.LogNormalWrapper('epsilon_ex', mean=epsilon_ex, stddev=depsilon_ex) # prior is centered on measured extinction coefficient\n",
    "        else:\n",
    "            model['epsilon_ex'] = pymc.Uniform('epsilon_ex', lower=0.0, upper=1000e3, value=70000.0) # extinction coefficient or molar absorptivity for ligand, units of 1/M/cm\n",
    "\n",
    "    model['epsilon_em'] = 0.0\n",
    "    if use_secondary_inner_filter_correction:\n",
    "        if epsilon_em:\n",
    "            model['log_epsilon_em'], model['epsilon_em'] =  pymcmodels.LogNormalWrapper('epsilon_em', mean=epsilon_em, stddev=depsilon_em) # prior is centered on measured extinction coefficient\n",
    "        else:\n",
    "            model['epsilon_em'] = pymc.Uniform('epsilon_em', lower=0.0, upper=1000e3, value=0.0) # extinction coefficient or molar absorptivity for ligand, units of 1/M/cm\n",
    "\n",
    "    # Min and max observed fluorescence.\n",
    "    Fmax = 0.0; Fmin = 1e6;\n",
    "    if top_complex_fluorescence is not None:\n",
    "        Fmax = max(Fmax, top_complex_fluorescence.max()); Fmin = min(Fmin, top_complex_fluorescence.min())\n",
    "    if top_ligand_fluorescence is not None:\n",
    "        Fmax = max(Fmax, top_ligand_fluorescence.max()); Fmin = min(Fmin, top_ligand_fluorescence.min())\n",
    "\n",
    "    # Compute initial guesses for fluorescence quantum yield quantities.\n",
    "    F_plate_guess = Fmin\n",
    "    F_buffer_guess = Fmin / path_length\n",
    "    F_L_guess = (Fmax - Fmin) / Lstated.max()\n",
    "    F_P_guess = Fmin\n",
    "    F_P_guess = Fmin / Pstated.min()\n",
    "    F_PL_guess = (Fmax - Fmin) / min(Pstated.max(), Lstated.max())\n",
    "\n",
    "    # Priors on fluorescence intensities of complexes (later divided by a factor of Pstated for scale).\n",
    "\n",
    "    if quantum_yield_priors == 'lognormal':\n",
    "        stddev = 1.0 # relative factor for stddev guess\n",
    "        model['log_F_plate'], model['F_plate'] =  pymcmodels.LogNormalWrapper('F_plate', mean=F_plate_guess, stddev=stddev*F_plate_guess) # plate fluorescence\n",
    "        model['log_F_buffer'], model['F_buffer'] =  pymcmodels.LogNormalWrapper('F_buffer', mean=F_buffer_guess, stddev=stddev*F_buffer_guess) # buffer fluorescence\n",
    "        model['log_F_buffer_control'], model['F_buffer_control'] =  pymcmodels.LogNormalWrapper('F_buffer_control', mean=F_buffer_guess, stddev=stddev*F_buffer_guess) # buffer fluorescence\n",
    "        if (F_PL is not None) and (dF_PL is not None):\n",
    "            model['log_F_PL'], model['F_PL'] =  pymcmodels.LogNormalWrapper('F_PL', mean=F_PL, stddev=dF_PL)\n",
    "        else:\n",
    "            model['log_F_PL'], model['F_PL'] =  pymcmodels.LogNormalWrapper('F_PL', mean=F_PL_guess, stddev=stddev*F_PL_guess) # complex fluorescence\n",
    "        model['log_F_P'], model['F_P'] =  pymcmodels.LogNormalWrapper('F_P', mean=F_P_guess, stddev=stddev*F_P_guess) # protein fluorescence\n",
    "        model['log_F_L'], model['F_L'] =  pymcmodels.LogNormalWrapper('F_L', mean=F_L_guess, stddev=stddev*F_L_guess) # ligand fluorescence\n",
    "    else:\n",
    "        raise Exception(\"quantum_yield_priors = '%s' unknown. Must be one of ['lognormal', 'uniform'].\" % quantum_yield_priors)\n",
    "\n",
    "    # Unknown experimental measurement error.\n",
    "    if top_fluorescence:\n",
    "        model['log_sigma_top'] = pymc.Uniform('log_sigma_top', lower=-10, upper=np.log(Fmax), value=np.log(5))\n",
    "        model['sigma_top'] = pymc.Lambda('sigma_top', lambda log_sigma=model['log_sigma_top'] : np.exp(log_sigma) )\n",
    "        model['precision_top'] = pymc.Lambda('precision_top', lambda log_sigma=model['log_sigma_top'] : np.exp(-2*log_sigma) )\n",
    "\n",
    "    if top_fluorescence:\n",
    "        model['log_sigma_abs'] = pymc.Uniform('log_sigma_abs', lower=-10, upper=0, value=np.log(0.01))\n",
    "        model['sigma_abs'] = pymc.Lambda('sigma_abs', lambda log_sigma=model['log_sigma_abs'] : np.exp(log_sigma) )\n",
    "        model['precision_abs'] = pymc.Lambda('precision_abs', lambda log_sigma=model['log_sigma_abs'] : np.exp(-2*log_sigma) )\n",
    "\n",
    "    if top_complex_fluorescence is not None:\n",
    "        @pymc.deterministic\n",
    "        def top_complex_fluorescence_model(F_plate=model['F_plate'], F_buffer=model['F_buffer'],\n",
    "                                           F_PL=model['F_PL'], F_P=model['F_P'], F_L=model['F_L'],\n",
    "                                           Ptrue=model['Ptrue'], Ltrue=model['Ltrue'], Btrue=model['Btrue'], DeltaG_L=model['DeltaG_L'], DeltaG_B=model['DeltaG_B'],\n",
    "                                           epsilon_ex=model['epsilon_ex'], epsilon_em=model['epsilon_em']):\n",
    "            [P_i, L_i, PL_i, B_i, PB_i] = CompetitionBindingModel.equilibrium_concentrations(Ptrue[:], Ltrue[:], DeltaG_L, Btrue[:], DeltaG_B)\n",
    "            IF_i = pymcmodels.inner_filter_effect_attenuation(epsilon_ex, epsilon_em, path_length, L_i, geometry='top')\n",
    "            IF_i_plate = np.exp(-(epsilon_ex+epsilon_em)*path_length*L_i) # inner filter effect applied only to plate\n",
    "            Fmodel_i = IF_i[:]*(F_PL*PL_i + F_L*L_i + F_P*P_i + F_buffer*path_length) + IF_i_plate*F_plate\n",
    "            return Fmodel_i\n",
    "        # Add to model.\n",
    "        model['top_complex_fluorescence_model'] = top_complex_fluorescence_model\n",
    "        model['log_top_complex_fluorescence'], model['top_complex_fluorescence'] = pymcmodels.LogNormalWrapper('top_complex_fluorescence',\n",
    "            mean=model['top_complex_fluorescence_model'], stddev=model['sigma_top'],\n",
    "            size=[N], observed=True, value=top_complex_fluorescence) # observed data\n",
    "        \n",
    "    if top_ligand_fluorescence is not None:\n",
    "        @pymc.deterministic\n",
    "        def top_ligand_fluorescence_model(F_plate=model['F_plate'], F_buffer_control=model['F_buffer_control'],\n",
    "                                          F_L=model['F_L'],\n",
    "                                          Ltrue_control=model['Ltrue_control'],\n",
    "                                          epsilon_ex=model['epsilon_ex'], epsilon_em=model['epsilon_em']):\n",
    "            IF_i = pymcmodels.inner_filter_effect_attenuation(epsilon_ex, epsilon_em, path_length, Ltrue_control, geometry='top')\n",
    "            IF_i_plate = np.exp(-(epsilon_ex+epsilon_em)*path_length*Ltrue_control) # inner filter effect applied only to plate\n",
    "            Fmodel_i = IF_i[:]*(F_L*Ltrue_control + F_buffer_control*path_length) + IF_i_plate*F_plate\n",
    "            return Fmodel_i\n",
    "        # Add to model.\n",
    "        model['top_ligand_fluorescence_model'] = top_ligand_fluorescence_model\n",
    "        model['log_top_ligand_fluorescence'], model['top_ligand_fluorescence'] = pymcmodels.LogNormalWrapper('top_ligand_fluorescence',\n",
    "                                                       mean=model['top_ligand_fluorescence_model'], stddev=model['sigma_top'],\n",
    "                                                       size=[N], observed=True, value=top_ligand_fluorescence) # observed data\n",
    "        \n",
    "    #Below this is competition model stuff!    \n",
    "    \n",
    "    # Compute number of samples.\n",
    "    if Bstated is not None:\n",
    "        N_B = len(Bstated)\n",
    "\n",
    "        # Check input.\n",
    "        # TODO: Check fluorescence and absorbance measurements for correct dimensions.\n",
    "        if (len(Lstated) != N_B):\n",
    "            raise Exception('len(Lstated) [%d] must equal len(Bstated) [%d].' % (len(Lstated), len(Bstated)))\n",
    "        if (len(Pstated) != N_B):\n",
    "            raise Exception('len(Pstated) [%d] must equal len(Bstated) [%d].' % (len(Pstated), len(Bstated)))\n",
    "        if (len(dPstated) != N_B):\n",
    "            raise Exception('len(dPstated) [%d] must equal len(Bstated) [%d].' % (len(dPstated), len(Bstated)))\n",
    "        if (len(dBstated) != N_B):\n",
    "            raise Exception('len(dBstated) [%d] must equal len(Bstated) [%d].' % (len(dBstated), len(Bstated)))\n",
    "\n",
    "            \n",
    "    if Bstated is not None:\n",
    "        @pymc.deterministic\n",
    "        def top_complex_fluorescence_model(F_plate=model['F_plate'], F_buffer=model['F_buffer'],\n",
    "                                           F_PL=model['F_PL'], F_P=model['F_P'], F_L=model['F_L'],\n",
    "                                           Ptrue=model['Ptrue'], Ltrue=model['Ltrue'], Btrue=model['Btrue'],\n",
    "                                           DeltaG_L=model['DeltaG_L'], DeltaG_B=model['DeltaG_B'],\n",
    "                                           epsilon_ex=model['epsilon_ex'], epsilon_em=model['epsilon_em']):\n",
    "            [P_i, L_i, PL_i, B_i, PB_i] = CompetitionBindingModel.equilibrium_concentrations(Ptrue[:], Ltrue[:], DeltaG_L, Btrue[:], DeltaG_B)\n",
    "            IF_i = pymcmodels.inner_filter_effect_attenuation(epsilon_ex, epsilon_em, path_length, L_i, geometry='top')\n",
    "            IF_i_plate = np.exp(-(epsilon_ex+epsilon_em)*path_length*L_i) # inner filter effect applied only to plate\n",
    "            Fmodel_i = IF_i[:]*(F_PL*PL_i + F_L*L_i + F_P*P_i + F_buffer*path_length) + IF_i_plate*F_plate\n",
    "            return Fmodel_i\n",
    "        # Add to model.\n",
    "        model['top_complex_fluorescence_model'] = top_complex_fluorescence_model\n",
    "        model['log_top_complex_fluorescence'], model['top_complex_fluorescence'] = pymcmodels.LogNormalWrapper('top_complex_fluorescence',\n",
    "            mean=model['top_complex_fluorescence_model'], stddev=model['sigma_top'],\n",
    "            size=[N], observed=True, value=top_complex_fluorescence) # observed data\n",
    "\n",
    "        @pymc.deterministic\n",
    "        def top_ligand_fluorescence_model(F_plate=model['F_plate'], F_buffer_control=model['F_buffer_control'],\n",
    "                                          F_L=model['F_L'],\n",
    "                                          Ltrue_control=model['Ltrue_control'],\n",
    "                                          epsilon_ex=model['epsilon_ex'], epsilon_em=model['epsilon_em']):\n",
    "            IF_i = pymcmodels.inner_filter_effect_attenuation(epsilon_ex, epsilon_em, path_length, Ltrue_control, geometry='top')\n",
    "            IF_i_plate = np.exp(-(epsilon_ex+epsilon_em)*path_length*Ltrue_control) # inner filter effect applied only to plate\n",
    "            Fmodel_i = IF_i[:]*(F_L*Ltrue_control + F_buffer_control*path_length) + IF_i_plate*F_plate\n",
    "            return Fmodel_i\n",
    "        # Add to model.\n",
    "        model['top_ligand_fluorescence_model'] = top_ligand_fluorescence_model\n",
    "        model['log_top_ligand_fluorescence'], model['top_ligand_fluorescence'] = pymcmodels.LogNormalWrapper('top_ligand_fluorescence',\n",
    "                                                       mean=model['top_ligand_fluorescence_model'], stddev=model['sigma_top'],\n",
    "                                                       size=[N], observed=True, value=top_ligand_fluorescence) # observed data\n",
    "    # Promote this to a full-fledged PyMC model.\n",
    "    pymc_model = pymc.Model(model)\n",
    "\n",
    "    # Return the pymc model\n",
    "    return pymc_model"
   ]
  },
  {
   "cell_type": "code",
   "execution_count": 13,
   "metadata": {
    "collapsed": false
   },
   "outputs": [],
   "source": [
    "inputs = {\n",
    "    'xml_file_path' :  \"/../assaytools/assaytools/examples/competition-fluorescence-assay/data/\",\n",
    "    'file_set'      :  {'Abl-IMA': glob(\"../assaytools/assaytools/examples/competition-fluorescence-assay/data/Abl*16-22-45_plate*.xml\")},\n",
    "    'ligand_order'  :  ['Gefitinib','Gefitinib','Gefitinib','Gefitinib'],\n",
    "    'competitive_ligand'  :  'Imatinib',\n",
    "    'section'       :  '280_BottomRead',\n",
    "    'Lstated'       :  np.array([20.0e-6,9.15e-6,4.18e-6,1.91e-6,0.875e-6,0.4e-6,0.183e-6,0.0837e-6,0.0383e-6,0.0175e-6,0.008e-6,0.0], np.float64), # ligand concentration, M\n",
    "    'Bstated'       :  10.0e-6 * np.ones([12],np.float64), # competitive ligand concentration, M\n",
    "    'Pstated'       :  0.5e-6 * np.ones([12],np.float64), # protein concentration, M\n",
    "    'assay_volume'  :  100e-6, # assay volume, L\n",
    "    'well_area'     :  0.3969, # well area, cm^2 for 4ti-0203 [http://4ti.co.uk/files/3113/4217/2464/4ti-0201.pdf],\n",
    "    'DG_L_mean'     :  -12.5, #DeltaG of Gefitinib mean estimate (kT)\n",
    "    'DG_L_std'      :  1      #DeltaG of Gefitinib standard deviation estimate (kT)\n",
    "    }"
   ]
  },
  {
   "cell_type": "code",
   "execution_count": null,
   "metadata": {
    "collapsed": false
   },
   "outputs": [],
   "source": []
  },
  {
   "cell_type": "code",
   "execution_count": 14,
   "metadata": {
    "collapsed": false
   },
   "outputs": [],
   "source": [
    "dPstated = 0.35 * inputs['Pstated'] # protein concentration uncertainty\n",
    "dLstated = 0.08 * inputs['Lstated'] # ligand concentraiton uncertainty (due to gravimetric preparation and HP D300 dispensing)\n",
    "dBstated = 0.08 * inputs['Bstated'] # ligand concentraiton uncertainty (due to gravimetric preparation and HP D300 dispensing)"
   ]
  },
  {
   "cell_type": "code",
   "execution_count": 17,
   "metadata": {
    "collapsed": false
   },
   "outputs": [],
   "source": [
    "[complex_fluorescence_comp, ligand_fluorescence_comp] = parser.get_data_using_inputs(inputs)  "
   ]
  },
  {
   "cell_type": "code",
   "execution_count": 18,
   "metadata": {
    "collapsed": true
   },
   "outputs": [],
   "source": [
    "name = 'Abl-IMA-Gefitinib-AB'"
   ]
  },
  {
   "cell_type": "code",
   "execution_count": 19,
   "metadata": {
    "collapsed": false
   },
   "outputs": [],
   "source": [
    "pymc_comp_model = make_comp_model(inputs['Pstated'], dPstated, inputs['Lstated'], dLstated,\n",
    "    inputs['Bstated'], dBstated, inputs['DG_L_mean'], inputs['DG_L_std'],# specific for competition assay\n",
    "    top_complex_fluorescence=complex_fluorescence_comp[name],\n",
    "    top_ligand_fluorescence=ligand_fluorescence_comp[name],\n",
    "    use_primary_inner_filter_correction=True,\n",
    "    use_secondary_inner_filter_correction=True,\n",
    "    assay_volume=inputs['assay_volume'], DG_prior='uniform')"
   ]
  },
  {
   "cell_type": "code",
   "execution_count": 20,
   "metadata": {
    "collapsed": true
   },
   "outputs": [],
   "source": [
    "comp_mcmc = pymc.MCMC(pymc_comp_model)"
   ]
  },
  {
   "cell_type": "code",
   "execution_count": 35,
   "metadata": {
    "collapsed": false
   },
   "outputs": [],
   "source": [
    "#comp_mcmc = pymcmodels.run_mcmc(pymc_comp_model)\n",
    "nburn = 500\n",
    "niter = 50000\n",
    "nthin = 20"
   ]
  },
  {
   "cell_type": "code",
   "execution_count": 36,
   "metadata": {
    "collapsed": false
   },
   "outputs": [],
   "source": [
    "comp_mcmc.sample(iter=(nburn+niter), burn=nburn, thin=nthin, progress_bar=False, tune_throughout=True)"
   ]
  },
  {
   "cell_type": "code",
   "execution_count": null,
   "metadata": {
    "collapsed": false
   },
   "outputs": [],
   "source": []
  },
  {
   "cell_type": "code",
   "execution_count": 42,
   "metadata": {
    "collapsed": false
   },
   "outputs": [
    {
     "data": {
      "text/plain": [
       "[<matplotlib.lines.Line2D at 0x11d59e210>]"
      ]
     },
     "execution_count": 42,
     "metadata": {},
     "output_type": "execute_result"
    },
    {
     "data": {
      "image/png": "[encoded data removed]",
      "text/plain": [
       "<matplotlib.figure.Figure at 0x11d59ead0>"
      ]
     },
     "metadata": {},
     "output_type": "display_data"
    }
   ],
   "source": [
    "plt.plot(comp_mcmc.DeltaG_L.trace())\n",
    "plt.plot(comp_mcmc.DeltaG_B.trace())\n"
   ]
  },
  {
   "cell_type": "code",
   "execution_count": null,
   "metadata": {
    "collapsed": false
   },
   "outputs": [],
   "source": []
  },
  {
   "cell_type": "code",
   "execution_count": 40,
   "metadata": {
    "collapsed": true
   },
   "outputs": [],
   "source": [
    "Abl_gefitinib = 2200e-9 # 2200 nM from DiscoverRx screen data \n",
    "\n",
    "AblGef_dG = np.log(Abl_gefitinib)\n",
    "\n",
    "Abl_imatinib = 1.1e-9 # 1.1 nM from DiscoverRx screen data \n",
    "\n",
    "AblIma_dG = np.log(Abl_imatinib)"
   ]
  },
  {
   "cell_type": "code",
   "execution_count": 41,
   "metadata": {
    "collapsed": false
   },
   "outputs": [
    {
     "data": {
      "image/png": "[encoded data removed]",
      "text/plain": [
       "<matplotlib.figure.Figure at 0x11d4eb490>"
      ]
     },
     "metadata": {},
     "output_type": "display_data"
    }
   ],
   "source": [
    "plt.figure(figsize=(12,10))\n",
    "plt.hist(comp_mcmc.DeltaG_L.trace(),normed=True,label='DelG_L(Gef) = %s' %comp_mcmc.DeltaG_L.trace().mean());\n",
    "plt.axvline(x=AblGef_dG,color='b',linestyle='--',label='IUPHARM Gef')\n",
    "plt.hist(comp_mcmc.DeltaG_B.trace(),normed=True,label='DelG_B(Ima) = %s' %comp_mcmc.DeltaG_B.trace().mean());\n",
    "plt.axvline(x=AblIma_dG,color='g',linestyle='--',label='IUPHARM Ima')\n",
    "plt.xlabel('$\\Delta G$ ($k_B T$)');\n",
    "plt.legend(loc=0);"
   ]
  },
  {
   "cell_type": "code",
   "execution_count": null,
   "metadata": {
    "collapsed": true
   },
   "outputs": [],
   "source": []
  },
  {
   "cell_type": "code",
   "execution_count": null,
   "metadata": {
    "collapsed": true
   },
   "outputs": [],
   "source": []
  },
  {
   "cell_type": "code",
   "execution_count": null,
   "metadata": {
    "collapsed": true
   },
   "outputs": [],
   "source": []
  }
 ],
 "metadata": {
  "kernelspec": {
   "display_name": "Python 2",
   "language": "python",
   "name": "python2"
  },
  "language_info": {
   "codemirror_mode": {
    "name": "ipython",
    "version": 2
   },
   "file_extension": ".py",
   "mimetype": "text/x-python",
   "name": "python",
   "nbconvert_exporter": "python",
   "pygments_lexer": "ipython2",
   "version": "2.7.13"
  }
 },
 "nbformat": 4,
 "nbformat_minor": 2
}
